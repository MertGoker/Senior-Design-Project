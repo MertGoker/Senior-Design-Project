{
 "cells": [
  {
   "metadata": {
    "ExecuteTime": {
     "end_time": "2025-04-07T22:54:03.035136Z",
     "start_time": "2025-04-07T22:54:03.033060Z"
    }
   },
   "cell_type": "code",
   "source": [
    "import numpy as np\n",
    "import matplotlib.pyplot as plt\n",
    "import pandas as pd"
   ],
   "id": "cd85d8be88066c06",
   "outputs": [],
   "execution_count": 138
  },
  {
   "metadata": {
    "ExecuteTime": {
     "end_time": "2025-04-07T22:54:03.042833Z",
     "start_time": "2025-04-07T22:54:03.039239Z"
    }
   },
   "cell_type": "code",
   "source": [
    "df = pd.read_csv('metrics_log.csv')\n",
    "df = df.drop([\"Epochs\"], axis=1)\n",
    "df['MAPE'] = df['MAPE'].apply(lambda x: 200 if x >= 200 else x)"
   ],
   "id": "bdc144619ed9b5ed",
   "outputs": [],
   "execution_count": 139
  },
  {
   "metadata": {
    "ExecuteTime": {
     "end_time": "2025-04-07T22:54:03.056818Z",
     "start_time": "2025-04-07T22:54:03.052834Z"
    }
   },
   "cell_type": "code",
   "source": [
    "# Minimum MAPE Values\n",
    "min_mape_df = df.sort_values(by=[\"MAPE\"], ascending=True)\n",
    "display(min_mape_df.head())"
   ],
   "id": "eafb34a5ee10371b",
   "outputs": [
    {
     "data": {
      "text/plain": [
       "     Product  Store      RMSE       MAPE  Model Runtime    Model\n",
       "178  8011605   3328  0.000000   0.000000       0.233156    ARIMA\n",
       "179  8011605   3328  0.000000   0.000000       1.618498   SARIMA\n",
       "31   8011740   3328  0.393799   6.437766     130.803602  LSTM-v1\n",
       "30   8011740   3328  0.395105   9.631947     127.268169  LSTM-v1\n",
       "14   8011003   3889  4.911942  10.672592     158.249650  LSTM-v1"
      ],
      "text/html": [
       "<div>\n",
       "<style scoped>\n",
       "    .dataframe tbody tr th:only-of-type {\n",
       "        vertical-align: middle;\n",
       "    }\n",
       "\n",
       "    .dataframe tbody tr th {\n",
       "        vertical-align: top;\n",
       "    }\n",
       "\n",
       "    .dataframe thead th {\n",
       "        text-align: right;\n",
       "    }\n",
       "</style>\n",
       "<table border=\"1\" class=\"dataframe\">\n",
       "  <thead>\n",
       "    <tr style=\"text-align: right;\">\n",
       "      <th></th>\n",
       "      <th>Product</th>\n",
       "      <th>Store</th>\n",
       "      <th>RMSE</th>\n",
       "      <th>MAPE</th>\n",
       "      <th>Model Runtime</th>\n",
       "      <th>Model</th>\n",
       "    </tr>\n",
       "  </thead>\n",
       "  <tbody>\n",
       "    <tr>\n",
       "      <th>178</th>\n",
       "      <td>8011605</td>\n",
       "      <td>3328</td>\n",
       "      <td>0.000000</td>\n",
       "      <td>0.000000</td>\n",
       "      <td>0.233156</td>\n",
       "      <td>ARIMA</td>\n",
       "    </tr>\n",
       "    <tr>\n",
       "      <th>179</th>\n",
       "      <td>8011605</td>\n",
       "      <td>3328</td>\n",
       "      <td>0.000000</td>\n",
       "      <td>0.000000</td>\n",
       "      <td>1.618498</td>\n",
       "      <td>SARIMA</td>\n",
       "    </tr>\n",
       "    <tr>\n",
       "      <th>31</th>\n",
       "      <td>8011740</td>\n",
       "      <td>3328</td>\n",
       "      <td>0.393799</td>\n",
       "      <td>6.437766</td>\n",
       "      <td>130.803602</td>\n",
       "      <td>LSTM-v1</td>\n",
       "    </tr>\n",
       "    <tr>\n",
       "      <th>30</th>\n",
       "      <td>8011740</td>\n",
       "      <td>3328</td>\n",
       "      <td>0.395105</td>\n",
       "      <td>9.631947</td>\n",
       "      <td>127.268169</td>\n",
       "      <td>LSTM-v1</td>\n",
       "    </tr>\n",
       "    <tr>\n",
       "      <th>14</th>\n",
       "      <td>8011003</td>\n",
       "      <td>3889</td>\n",
       "      <td>4.911942</td>\n",
       "      <td>10.672592</td>\n",
       "      <td>158.249650</td>\n",
       "      <td>LSTM-v1</td>\n",
       "    </tr>\n",
       "  </tbody>\n",
       "</table>\n",
       "</div>"
      ]
     },
     "metadata": {},
     "output_type": "display_data"
    }
   ],
   "execution_count": 140
  },
  {
   "metadata": {
    "ExecuteTime": {
     "end_time": "2025-04-07T22:54:03.076372Z",
     "start_time": "2025-04-07T22:54:03.072688Z"
    }
   },
   "cell_type": "code",
   "source": [
    "# Minimum RMSE Values\n",
    "min_rmse_df = df.sort_values(by=[\"RMSE\"], ascending=True)\n",
    "display(min_rmse_df.head())"
   ],
   "id": "96d4c59ae409571",
   "outputs": [
    {
     "data": {
      "text/plain": [
       "     Product  Store      RMSE       MAPE  Model Runtime    Model\n",
       "178  8011605   3328  0.000000   0.000000       0.233156    ARIMA\n",
       "179  8011605   3328  0.000000   0.000000       1.618498   SARIMA\n",
       "25   8010903   4816  0.341179  21.859930     110.396573  LSTM-v1\n",
       "58   8011605   3328  0.365103  10.835887      59.870407  LSTM-v1\n",
       "31   8011740   3328  0.393799   6.437766     130.803602  LSTM-v1"
      ],
      "text/html": [
       "<div>\n",
       "<style scoped>\n",
       "    .dataframe tbody tr th:only-of-type {\n",
       "        vertical-align: middle;\n",
       "    }\n",
       "\n",
       "    .dataframe tbody tr th {\n",
       "        vertical-align: top;\n",
       "    }\n",
       "\n",
       "    .dataframe thead th {\n",
       "        text-align: right;\n",
       "    }\n",
       "</style>\n",
       "<table border=\"1\" class=\"dataframe\">\n",
       "  <thead>\n",
       "    <tr style=\"text-align: right;\">\n",
       "      <th></th>\n",
       "      <th>Product</th>\n",
       "      <th>Store</th>\n",
       "      <th>RMSE</th>\n",
       "      <th>MAPE</th>\n",
       "      <th>Model Runtime</th>\n",
       "      <th>Model</th>\n",
       "    </tr>\n",
       "  </thead>\n",
       "  <tbody>\n",
       "    <tr>\n",
       "      <th>178</th>\n",
       "      <td>8011605</td>\n",
       "      <td>3328</td>\n",
       "      <td>0.000000</td>\n",
       "      <td>0.000000</td>\n",
       "      <td>0.233156</td>\n",
       "      <td>ARIMA</td>\n",
       "    </tr>\n",
       "    <tr>\n",
       "      <th>179</th>\n",
       "      <td>8011605</td>\n",
       "      <td>3328</td>\n",
       "      <td>0.000000</td>\n",
       "      <td>0.000000</td>\n",
       "      <td>1.618498</td>\n",
       "      <td>SARIMA</td>\n",
       "    </tr>\n",
       "    <tr>\n",
       "      <th>25</th>\n",
       "      <td>8010903</td>\n",
       "      <td>4816</td>\n",
       "      <td>0.341179</td>\n",
       "      <td>21.859930</td>\n",
       "      <td>110.396573</td>\n",
       "      <td>LSTM-v1</td>\n",
       "    </tr>\n",
       "    <tr>\n",
       "      <th>58</th>\n",
       "      <td>8011605</td>\n",
       "      <td>3328</td>\n",
       "      <td>0.365103</td>\n",
       "      <td>10.835887</td>\n",
       "      <td>59.870407</td>\n",
       "      <td>LSTM-v1</td>\n",
       "    </tr>\n",
       "    <tr>\n",
       "      <th>31</th>\n",
       "      <td>8011740</td>\n",
       "      <td>3328</td>\n",
       "      <td>0.393799</td>\n",
       "      <td>6.437766</td>\n",
       "      <td>130.803602</td>\n",
       "      <td>LSTM-v1</td>\n",
       "    </tr>\n",
       "  </tbody>\n",
       "</table>\n",
       "</div>"
      ]
     },
     "metadata": {},
     "output_type": "display_data"
    }
   ],
   "execution_count": 141
  },
  {
   "metadata": {
    "ExecuteTime": {
     "end_time": "2025-04-07T22:54:03.102582Z",
     "start_time": "2025-04-07T22:54:03.098934Z"
    }
   },
   "cell_type": "code",
   "source": [
    "# Minimum Model Runtime Values\n",
    "min_runtime_df = df.sort_values(by=[\"Model Runtime\"], ascending=True)\n",
    "display(min_runtime_df.head())"
   ],
   "id": "ad3520b8fac790ab",
   "outputs": [
    {
     "data": {
      "text/plain": [
       "     Product  Store      RMSE        MAPE  Model Runtime  Model\n",
       "178  8011605   3328  0.000000    0.000000       0.233156  ARIMA\n",
       "148  8011002   4388  0.961786   48.755644       0.233854  ARIMA\n",
       "162  8017442   3349  2.840567  105.006265       0.305574  ARIMA\n",
       "186  8011605   4816  1.130042   83.464165       0.328251  ARIMA\n",
       "168  8017442   4816  1.130042   83.464165       0.342887  ARIMA"
      ],
      "text/html": [
       "<div>\n",
       "<style scoped>\n",
       "    .dataframe tbody tr th:only-of-type {\n",
       "        vertical-align: middle;\n",
       "    }\n",
       "\n",
       "    .dataframe tbody tr th {\n",
       "        vertical-align: top;\n",
       "    }\n",
       "\n",
       "    .dataframe thead th {\n",
       "        text-align: right;\n",
       "    }\n",
       "</style>\n",
       "<table border=\"1\" class=\"dataframe\">\n",
       "  <thead>\n",
       "    <tr style=\"text-align: right;\">\n",
       "      <th></th>\n",
       "      <th>Product</th>\n",
       "      <th>Store</th>\n",
       "      <th>RMSE</th>\n",
       "      <th>MAPE</th>\n",
       "      <th>Model Runtime</th>\n",
       "      <th>Model</th>\n",
       "    </tr>\n",
       "  </thead>\n",
       "  <tbody>\n",
       "    <tr>\n",
       "      <th>178</th>\n",
       "      <td>8011605</td>\n",
       "      <td>3328</td>\n",
       "      <td>0.000000</td>\n",
       "      <td>0.000000</td>\n",
       "      <td>0.233156</td>\n",
       "      <td>ARIMA</td>\n",
       "    </tr>\n",
       "    <tr>\n",
       "      <th>148</th>\n",
       "      <td>8011002</td>\n",
       "      <td>4388</td>\n",
       "      <td>0.961786</td>\n",
       "      <td>48.755644</td>\n",
       "      <td>0.233854</td>\n",
       "      <td>ARIMA</td>\n",
       "    </tr>\n",
       "    <tr>\n",
       "      <th>162</th>\n",
       "      <td>8017442</td>\n",
       "      <td>3349</td>\n",
       "      <td>2.840567</td>\n",
       "      <td>105.006265</td>\n",
       "      <td>0.305574</td>\n",
       "      <td>ARIMA</td>\n",
       "    </tr>\n",
       "    <tr>\n",
       "      <th>186</th>\n",
       "      <td>8011605</td>\n",
       "      <td>4816</td>\n",
       "      <td>1.130042</td>\n",
       "      <td>83.464165</td>\n",
       "      <td>0.328251</td>\n",
       "      <td>ARIMA</td>\n",
       "    </tr>\n",
       "    <tr>\n",
       "      <th>168</th>\n",
       "      <td>8017442</td>\n",
       "      <td>4816</td>\n",
       "      <td>1.130042</td>\n",
       "      <td>83.464165</td>\n",
       "      <td>0.342887</td>\n",
       "      <td>ARIMA</td>\n",
       "    </tr>\n",
       "  </tbody>\n",
       "</table>\n",
       "</div>"
      ]
     },
     "metadata": {},
     "output_type": "display_data"
    }
   ],
   "execution_count": 142
  },
  {
   "metadata": {
    "ExecuteTime": {
     "end_time": "2025-04-07T22:54:03.136162Z",
     "start_time": "2025-04-07T22:54:03.134202Z"
    }
   },
   "cell_type": "code",
   "source": [
    "# General Stats\n",
    "print(f\"Number of stores: {df['Store'].nunique()}\")\n",
    "print(f\"Number of products: {df['Product'].nunique()}\")\n",
    "print(f\"Number of total models: {df.shape[0]}\")\n"
   ],
   "id": "cac82a60d2d84c0f",
   "outputs": [
    {
     "name": "stdout",
     "output_type": "stream",
     "text": [
      "Number of stores: 9\n",
      "Number of products: 7\n",
      "Number of total models: 190\n"
     ]
    }
   ],
   "execution_count": 143
  },
  {
   "metadata": {
    "ExecuteTime": {
     "end_time": "2025-04-07T22:54:03.241230Z",
     "start_time": "2025-04-07T22:54:03.238738Z"
    }
   },
   "cell_type": "code",
   "source": [
    "# LSTM Model Stats\n",
    "lstm_v1_df = df[df[\"Model\"] == \"LSTM-v1\"]\n",
    "\n",
    "print(\"LSTM Model Runtime\")\n",
    "print(f\"Number of models: {len(lstm_v1_df)}\")\n",
    "print(f\"Mean RMSE: {lstm_v1_df['RMSE'].mean()}\")\n",
    "print(f\"Mean MAPE: {lstm_v1_df['MAPE'].mean()}\")\n",
    "print(f\"Runtime Mean: {lstm_v1_df['Model Runtime'].mean()}\")\n",
    "print(f\"Runtime Standard Deviation: {lstm_v1_df['Model Runtime'].std()}\")"
   ],
   "id": "276050da2345a373",
   "outputs": [
    {
     "name": "stdout",
     "output_type": "stream",
     "text": [
      "LSTM Model Runtime\n",
      "Number of models: 64\n",
      "Mean RMSE: 4.351733558028883\n",
      "Mean MAPE: 40.42589370670648\n",
      "Runtime Mean: 128.58149813115597\n",
      "Runtime Standard Deviation: 29.483834872047485\n"
     ]
    }
   ],
   "execution_count": 144
  },
  {
   "metadata": {
    "ExecuteTime": {
     "end_time": "2025-04-07T22:54:03.269997Z",
     "start_time": "2025-04-07T22:54:03.267465Z"
    }
   },
   "cell_type": "code",
   "source": [
    "# SARIMA Model Stats\n",
    "sarima_df = df[df[\"Model\"] == \"SARIMA\"]\n",
    "\n",
    "print(\"SARIMA Model Runtime\")\n",
    "print(f\"Number of models: {len(sarima_df)}\")\n",
    "print(f\"Mean RMSE: {sarima_df['RMSE'].mean()}\")\n",
    "print(f\"Mean MAPE: {sarima_df['MAPE'].mean()}\")\n",
    "print(f\"Runtime Mean: {sarima_df['Model Runtime'].mean()}\")\n",
    "print(f\"Runtime Standard Deviation: {sarima_df['Model Runtime'].std()}\")"
   ],
   "id": "d7be09398fc1d023",
   "outputs": [
    {
     "name": "stdout",
     "output_type": "stream",
     "text": [
      "SARIMA Model Runtime\n",
      "Number of models: 63\n",
      "Mean RMSE: 4.5112530636331885\n",
      "Mean MAPE: 79.84389233396645\n",
      "Runtime Mean: 68.06669240906125\n",
      "Runtime Standard Deviation: 37.04266989557118\n"
     ]
    }
   ],
   "execution_count": 145
  },
  {
   "metadata": {
    "ExecuteTime": {
     "end_time": "2025-04-07T22:54:03.300197Z",
     "start_time": "2025-04-07T22:54:03.298019Z"
    }
   },
   "cell_type": "code",
   "source": [
    "# ARIMA Model Stats\n",
    "arima_df = df[df[\"Model\"] == \"ARIMA\"]\n",
    "\n",
    "print(\"ARIMA Model Runtime\")\n",
    "print(f\"Number of models: {len(arima_df)}\")\n",
    "print(f\"Mean RMSE: {arima_df['RMSE'].mean()}\")\n",
    "print(f\"Mean MAPE: {arima_df['MAPE'].mean()}\")\n",
    "print(f\"Runtime Mean: {arima_df['Model Runtime'].mean()}\")\n",
    "print(f\"Runtime Standard Deviation: {arima_df['Model Runtime'].std()}\")"
   ],
   "id": "2d7d24fd108aa6e2",
   "outputs": [
    {
     "name": "stdout",
     "output_type": "stream",
     "text": [
      "ARIMA Model Runtime\n",
      "Number of models: 63\n",
      "Mean RMSE: 4.681675957538971\n",
      "Mean MAPE: 81.82968508045225\n",
      "Runtime Mean: 0.4741199924832299\n",
      "Runtime Standard Deviation: 0.10070371827870629\n"
     ]
    }
   ],
   "execution_count": 146
  }
 ],
 "metadata": {
  "kernelspec": {
   "name": "python3",
   "language": "python",
   "display_name": "Python 3 (ipykernel)"
  }
 },
 "nbformat": 5,
 "nbformat_minor": 9
}
