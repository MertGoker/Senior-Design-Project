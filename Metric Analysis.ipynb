{
 "cells": [
  {
   "metadata": {
    "ExecuteTime": {
     "end_time": "2025-04-12T14:54:54.712036Z",
     "start_time": "2025-04-12T14:54:54.710044Z"
    }
   },
   "cell_type": "code",
   "source": [
    "import numpy as np\n",
    "import matplotlib.pyplot as plt\n",
    "import pandas as pd"
   ],
   "id": "cd85d8be88066c06",
   "outputs": [],
   "execution_count": 25
  },
  {
   "metadata": {
    "ExecuteTime": {
     "end_time": "2025-04-12T14:54:54.736311Z",
     "start_time": "2025-04-12T14:54:54.732403Z"
    }
   },
   "cell_type": "code",
   "source": [
    "df = pd.read_csv('metrics_log.csv')\n",
    "df = df.drop([\"Epochs\"], axis=1)\n",
    "df['MAPE'] = df['MAPE'].apply(lambda x: 200 if x >= 200 else x)\n",
    "df['MAPE'] = df['MAPE'].apply(lambda x: x / 100)"
   ],
   "id": "bdc144619ed9b5ed",
   "outputs": [],
   "execution_count": 26
  },
  {
   "metadata": {
    "ExecuteTime": {
     "end_time": "2025-04-12T14:54:54.744250Z",
     "start_time": "2025-04-12T14:54:54.740220Z"
    }
   },
   "cell_type": "code",
   "source": [
    "# Minimum MAPE Values\n",
    "min_mape_df = df.sort_values(by=[\"MAPE\"], ascending=True)\n",
    "display(min_mape_df.head())"
   ],
   "id": "eafb34a5ee10371b",
   "outputs": [
    {
     "data": {
      "text/plain": [
       "     Product  Store      RMSE      MAPE  Model Runtime    Model\n",
       "177  8011605   3328  0.000000  0.000000       0.233156    ARIMA\n",
       "178  8011605   3328  0.000000  0.000000       1.618498   SARIMA\n",
       "30   8011740   3328  0.393799  0.064378     130.803602  LSTM-v1\n",
       "29   8011740   2189  0.395105  0.096319     127.268169  LSTM-v1\n",
       "14   8011003   3889  4.911942  0.106726     158.249650  LSTM-v1"
      ],
      "text/html": [
       "<div>\n",
       "<style scoped>\n",
       "    .dataframe tbody tr th:only-of-type {\n",
       "        vertical-align: middle;\n",
       "    }\n",
       "\n",
       "    .dataframe tbody tr th {\n",
       "        vertical-align: top;\n",
       "    }\n",
       "\n",
       "    .dataframe thead th {\n",
       "        text-align: right;\n",
       "    }\n",
       "</style>\n",
       "<table border=\"1\" class=\"dataframe\">\n",
       "  <thead>\n",
       "    <tr style=\"text-align: right;\">\n",
       "      <th></th>\n",
       "      <th>Product</th>\n",
       "      <th>Store</th>\n",
       "      <th>RMSE</th>\n",
       "      <th>MAPE</th>\n",
       "      <th>Model Runtime</th>\n",
       "      <th>Model</th>\n",
       "    </tr>\n",
       "  </thead>\n",
       "  <tbody>\n",
       "    <tr>\n",
       "      <th>177</th>\n",
       "      <td>8011605</td>\n",
       "      <td>3328</td>\n",
       "      <td>0.000000</td>\n",
       "      <td>0.000000</td>\n",
       "      <td>0.233156</td>\n",
       "      <td>ARIMA</td>\n",
       "    </tr>\n",
       "    <tr>\n",
       "      <th>178</th>\n",
       "      <td>8011605</td>\n",
       "      <td>3328</td>\n",
       "      <td>0.000000</td>\n",
       "      <td>0.000000</td>\n",
       "      <td>1.618498</td>\n",
       "      <td>SARIMA</td>\n",
       "    </tr>\n",
       "    <tr>\n",
       "      <th>30</th>\n",
       "      <td>8011740</td>\n",
       "      <td>3328</td>\n",
       "      <td>0.393799</td>\n",
       "      <td>0.064378</td>\n",
       "      <td>130.803602</td>\n",
       "      <td>LSTM-v1</td>\n",
       "    </tr>\n",
       "    <tr>\n",
       "      <th>29</th>\n",
       "      <td>8011740</td>\n",
       "      <td>2189</td>\n",
       "      <td>0.395105</td>\n",
       "      <td>0.096319</td>\n",
       "      <td>127.268169</td>\n",
       "      <td>LSTM-v1</td>\n",
       "    </tr>\n",
       "    <tr>\n",
       "      <th>14</th>\n",
       "      <td>8011003</td>\n",
       "      <td>3889</td>\n",
       "      <td>4.911942</td>\n",
       "      <td>0.106726</td>\n",
       "      <td>158.249650</td>\n",
       "      <td>LSTM-v1</td>\n",
       "    </tr>\n",
       "  </tbody>\n",
       "</table>\n",
       "</div>"
      ]
     },
     "metadata": {},
     "output_type": "display_data"
    }
   ],
   "execution_count": 27
  },
  {
   "metadata": {
    "ExecuteTime": {
     "end_time": "2025-04-12T14:54:54.756050Z",
     "start_time": "2025-04-12T14:54:54.752291Z"
    }
   },
   "cell_type": "code",
   "source": [
    "# Minimum RMSE Values\n",
    "min_rmse_df = df.sort_values(by=[\"RMSE\"], ascending=True)\n",
    "display(min_rmse_df.head())"
   ],
   "id": "96d4c59ae409571",
   "outputs": [
    {
     "data": {
      "text/plain": [
       "     Product  Store      RMSE      MAPE  Model Runtime    Model\n",
       "177  8011605   3328  0.000000  0.000000       0.233156    ARIMA\n",
       "178  8011605   3328  0.000000  0.000000       1.618498   SARIMA\n",
       "25   8010903   4816  0.341179  0.218599     110.396573  LSTM-v1\n",
       "57   8011605   3328  0.365103  0.108359      59.870407  LSTM-v1\n",
       "30   8011740   3328  0.393799  0.064378     130.803602  LSTM-v1"
      ],
      "text/html": [
       "<div>\n",
       "<style scoped>\n",
       "    .dataframe tbody tr th:only-of-type {\n",
       "        vertical-align: middle;\n",
       "    }\n",
       "\n",
       "    .dataframe tbody tr th {\n",
       "        vertical-align: top;\n",
       "    }\n",
       "\n",
       "    .dataframe thead th {\n",
       "        text-align: right;\n",
       "    }\n",
       "</style>\n",
       "<table border=\"1\" class=\"dataframe\">\n",
       "  <thead>\n",
       "    <tr style=\"text-align: right;\">\n",
       "      <th></th>\n",
       "      <th>Product</th>\n",
       "      <th>Store</th>\n",
       "      <th>RMSE</th>\n",
       "      <th>MAPE</th>\n",
       "      <th>Model Runtime</th>\n",
       "      <th>Model</th>\n",
       "    </tr>\n",
       "  </thead>\n",
       "  <tbody>\n",
       "    <tr>\n",
       "      <th>177</th>\n",
       "      <td>8011605</td>\n",
       "      <td>3328</td>\n",
       "      <td>0.000000</td>\n",
       "      <td>0.000000</td>\n",
       "      <td>0.233156</td>\n",
       "      <td>ARIMA</td>\n",
       "    </tr>\n",
       "    <tr>\n",
       "      <th>178</th>\n",
       "      <td>8011605</td>\n",
       "      <td>3328</td>\n",
       "      <td>0.000000</td>\n",
       "      <td>0.000000</td>\n",
       "      <td>1.618498</td>\n",
       "      <td>SARIMA</td>\n",
       "    </tr>\n",
       "    <tr>\n",
       "      <th>25</th>\n",
       "      <td>8010903</td>\n",
       "      <td>4816</td>\n",
       "      <td>0.341179</td>\n",
       "      <td>0.218599</td>\n",
       "      <td>110.396573</td>\n",
       "      <td>LSTM-v1</td>\n",
       "    </tr>\n",
       "    <tr>\n",
       "      <th>57</th>\n",
       "      <td>8011605</td>\n",
       "      <td>3328</td>\n",
       "      <td>0.365103</td>\n",
       "      <td>0.108359</td>\n",
       "      <td>59.870407</td>\n",
       "      <td>LSTM-v1</td>\n",
       "    </tr>\n",
       "    <tr>\n",
       "      <th>30</th>\n",
       "      <td>8011740</td>\n",
       "      <td>3328</td>\n",
       "      <td>0.393799</td>\n",
       "      <td>0.064378</td>\n",
       "      <td>130.803602</td>\n",
       "      <td>LSTM-v1</td>\n",
       "    </tr>\n",
       "  </tbody>\n",
       "</table>\n",
       "</div>"
      ]
     },
     "metadata": {},
     "output_type": "display_data"
    }
   ],
   "execution_count": 28
  },
  {
   "metadata": {
    "ExecuteTime": {
     "end_time": "2025-04-12T14:54:54.785285Z",
     "start_time": "2025-04-12T14:54:54.781600Z"
    }
   },
   "cell_type": "code",
   "source": [
    "# Minimum Model Runtime Values\n",
    "min_runtime_df = df.sort_values(by=[\"Model Runtime\"], ascending=True)\n",
    "display(min_runtime_df.head())"
   ],
   "id": "ad3520b8fac790ab",
   "outputs": [
    {
     "data": {
      "text/plain": [
       "     Product  Store      RMSE      MAPE  Model Runtime  Model\n",
       "177  8011605   3328  0.000000  0.000000       0.233156  ARIMA\n",
       "147  8011002   4388  0.961786  0.487556       0.233854  ARIMA\n",
       "161  8017442   3349  2.840567  1.050063       0.305574  ARIMA\n",
       "185  8011605   4816  1.130042  0.834642       0.328251  ARIMA\n",
       "167  8017442   4816  1.130042  0.834642       0.342887  ARIMA"
      ],
      "text/html": [
       "<div>\n",
       "<style scoped>\n",
       "    .dataframe tbody tr th:only-of-type {\n",
       "        vertical-align: middle;\n",
       "    }\n",
       "\n",
       "    .dataframe tbody tr th {\n",
       "        vertical-align: top;\n",
       "    }\n",
       "\n",
       "    .dataframe thead th {\n",
       "        text-align: right;\n",
       "    }\n",
       "</style>\n",
       "<table border=\"1\" class=\"dataframe\">\n",
       "  <thead>\n",
       "    <tr style=\"text-align: right;\">\n",
       "      <th></th>\n",
       "      <th>Product</th>\n",
       "      <th>Store</th>\n",
       "      <th>RMSE</th>\n",
       "      <th>MAPE</th>\n",
       "      <th>Model Runtime</th>\n",
       "      <th>Model</th>\n",
       "    </tr>\n",
       "  </thead>\n",
       "  <tbody>\n",
       "    <tr>\n",
       "      <th>177</th>\n",
       "      <td>8011605</td>\n",
       "      <td>3328</td>\n",
       "      <td>0.000000</td>\n",
       "      <td>0.000000</td>\n",
       "      <td>0.233156</td>\n",
       "      <td>ARIMA</td>\n",
       "    </tr>\n",
       "    <tr>\n",
       "      <th>147</th>\n",
       "      <td>8011002</td>\n",
       "      <td>4388</td>\n",
       "      <td>0.961786</td>\n",
       "      <td>0.487556</td>\n",
       "      <td>0.233854</td>\n",
       "      <td>ARIMA</td>\n",
       "    </tr>\n",
       "    <tr>\n",
       "      <th>161</th>\n",
       "      <td>8017442</td>\n",
       "      <td>3349</td>\n",
       "      <td>2.840567</td>\n",
       "      <td>1.050063</td>\n",
       "      <td>0.305574</td>\n",
       "      <td>ARIMA</td>\n",
       "    </tr>\n",
       "    <tr>\n",
       "      <th>185</th>\n",
       "      <td>8011605</td>\n",
       "      <td>4816</td>\n",
       "      <td>1.130042</td>\n",
       "      <td>0.834642</td>\n",
       "      <td>0.328251</td>\n",
       "      <td>ARIMA</td>\n",
       "    </tr>\n",
       "    <tr>\n",
       "      <th>167</th>\n",
       "      <td>8017442</td>\n",
       "      <td>4816</td>\n",
       "      <td>1.130042</td>\n",
       "      <td>0.834642</td>\n",
       "      <td>0.342887</td>\n",
       "      <td>ARIMA</td>\n",
       "    </tr>\n",
       "  </tbody>\n",
       "</table>\n",
       "</div>"
      ]
     },
     "metadata": {},
     "output_type": "display_data"
    }
   ],
   "execution_count": 29
  },
  {
   "metadata": {
    "ExecuteTime": {
     "end_time": "2025-04-12T14:54:54.819578Z",
     "start_time": "2025-04-12T14:54:54.817601Z"
    }
   },
   "cell_type": "code",
   "source": [
    "# General Stats\n",
    "print(f\"Number of stores: {df['Store'].nunique()}\")\n",
    "print(f\"Number of products: {df['Product'].nunique()}\")\n",
    "print(f\"Number of total models: {df.shape[0]}\")\n"
   ],
   "id": "cac82a60d2d84c0f",
   "outputs": [
    {
     "name": "stdout",
     "output_type": "stream",
     "text": [
      "Number of stores: 9\n",
      "Number of products: 7\n",
      "Number of total models: 189\n"
     ]
    }
   ],
   "execution_count": 30
  },
  {
   "metadata": {
    "ExecuteTime": {
     "end_time": "2025-04-12T14:54:54.861845Z",
     "start_time": "2025-04-12T14:54:54.859473Z"
    }
   },
   "cell_type": "code",
   "source": [
    "# LSTM Model Stats\n",
    "lstm_v1_df = df[df[\"Model\"] == \"LSTM-v1\"]\n",
    "\n",
    "print(\"LSTM Model\")\n",
    "print(f\"Number of models: {len(lstm_v1_df)}\")\n",
    "print(f\"Mean RMSE: {lstm_v1_df['RMSE'].mean()}\")\n",
    "print(f\"Mean MAPE: {lstm_v1_df['MAPE'].mean()}\")\n",
    "print(f\"Runtime Mean: {lstm_v1_df['Model Runtime'].mean()}\")\n",
    "print(f\"Runtime Standard Deviation: {lstm_v1_df['Model Runtime'].std()}\")"
   ],
   "id": "276050da2345a373",
   "outputs": [
    {
     "name": "stdout",
     "output_type": "stream",
     "text": [
      "LSTM Model\n",
      "Number of models: 63\n",
      "Mean RMSE: 4.376280677615048\n",
      "Mean MAPE: 0.39912620893449735\n",
      "Runtime Mean: 128.16622829058812\n",
      "Runtime Standard Deviation: 29.531384658550763\n"
     ]
    }
   ],
   "execution_count": 31
  },
  {
   "metadata": {
    "ExecuteTime": {
     "end_time": "2025-04-12T14:54:54.897323Z",
     "start_time": "2025-04-12T14:54:54.894854Z"
    }
   },
   "cell_type": "code",
   "source": [
    "# SARIMA Model Stats\n",
    "sarima_df = df[df[\"Model\"] == \"SARIMA\"]\n",
    "\n",
    "print(\"SARIMA Model\")\n",
    "print(f\"Number of models: {len(sarima_df)}\")\n",
    "print(f\"Mean RMSE: {sarima_df['RMSE'].mean()}\")\n",
    "print(f\"Mean MAPE: {sarima_df['MAPE'].mean()}\")\n",
    "print(f\"Runtime Mean: {sarima_df['Model Runtime'].mean()}\")\n",
    "print(f\"Runtime Standard Deviation: {sarima_df['Model Runtime'].std()}\")"
   ],
   "id": "d7be09398fc1d023",
   "outputs": [
    {
     "name": "stdout",
     "output_type": "stream",
     "text": [
      "SARIMA Model\n",
      "Number of models: 63\n",
      "Mean RMSE: 4.5112530636331885\n",
      "Mean MAPE: 0.7984389233396647\n",
      "Runtime Mean: 68.06669240906125\n",
      "Runtime Standard Deviation: 37.04266989557118\n"
     ]
    }
   ],
   "execution_count": 32
  },
  {
   "metadata": {
    "ExecuteTime": {
     "end_time": "2025-04-12T14:54:54.924659Z",
     "start_time": "2025-04-12T14:54:54.922114Z"
    }
   },
   "cell_type": "code",
   "source": [
    "# ARIMA Model Stats\n",
    "arima_df = df[df[\"Model\"] == \"ARIMA\"]\n",
    "\n",
    "print(\"ARIMA Model\")\n",
    "print(f\"Number of models: {len(arima_df)}\")\n",
    "print(f\"Mean RMSE: {arima_df['RMSE'].mean()}\")\n",
    "print(f\"Mean MAPE: {arima_df['MAPE'].mean()}\")\n",
    "print(f\"Runtime Mean: {arima_df['Model Runtime'].mean()}\")\n",
    "print(f\"Runtime Standard Deviation: {arima_df['Model Runtime'].std()}\")"
   ],
   "id": "2d7d24fd108aa6e2",
   "outputs": [
    {
     "name": "stdout",
     "output_type": "stream",
     "text": [
      "ARIMA Model\n",
      "Number of models: 63\n",
      "Mean RMSE: 4.681675957538971\n",
      "Mean MAPE: 0.8182968508045225\n",
      "Runtime Mean: 0.4741199924832299\n",
      "Runtime Standard Deviation: 0.10070371827870629\n"
     ]
    }
   ],
   "execution_count": 33
  },
  {
   "metadata": {
    "ExecuteTime": {
     "end_time": "2025-04-12T14:54:54.937817Z",
     "start_time": "2025-04-12T14:54:54.934935Z"
    }
   },
   "cell_type": "code",
   "source": [
    "grouped_metrics = df.groupby(\"Model\")[[\"RMSE\", \"MAPE\"]].mean()\n",
    "print(grouped_metrics)"
   ],
   "id": "4cf728055631f984",
   "outputs": [
    {
     "name": "stdout",
     "output_type": "stream",
     "text": [
      "             RMSE      MAPE\n",
      "Model                      \n",
      "ARIMA    4.681676  0.818297\n",
      "LSTM-v1  4.376281  0.399126\n",
      "SARIMA   4.511253  0.798439\n"
     ]
    }
   ],
   "execution_count": 34
  }
 ],
 "metadata": {
  "kernelspec": {
   "name": "python3",
   "language": "python",
   "display_name": "Python 3 (ipykernel)"
  }
 },
 "nbformat": 5,
 "nbformat_minor": 9
}
