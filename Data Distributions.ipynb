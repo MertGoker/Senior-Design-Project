{
 "cells": [
  {
   "metadata": {
    "ExecuteTime": {
     "end_time": "2025-04-07T21:11:18.635772Z",
     "start_time": "2025-04-07T21:11:18.634470Z"
    }
   },
   "cell_type": "code",
   "source": [
    "import numpy as np\n",
    "import matplotlib.pyplot as plt\n",
    "import seaborn as sns\n",
    "import pandas as pd"
   ],
   "id": "8a1a8b16b7521d26",
   "outputs": [],
   "execution_count": 1
  },
  {
   "metadata": {
    "ExecuteTime": {
     "end_time": "2025-04-07T21:11:18.642716Z",
     "start_time": "2025-04-07T21:11:18.638272Z"
    }
   },
   "cell_type": "code",
   "source": [
    "data_2017 = \"Magaza CSV Files 2017/magaza_1096_2017.csv\"\n",
    "data_2018 = \"Magaza CSV Files 2018/magaza_1096_2018.csv\"\n",
    "data_2019 = \"Magaza CSV Files 2019/magaza_1096_2019.csv\"\n",
    "\n",
    "product_df_2017 = pd.read_csv(data_2017)\n",
    "product_df_2018 = pd.read_csv(data_2018)\n",
    "product_df_2019 = pd.read_csv(data_2019)"
   ],
   "id": "42a6b71eab4260e7",
   "outputs": [],
   "execution_count": 2
  },
  {
   "metadata": {
    "ExecuteTime": {
     "end_time": "2025-04-07T21:11:18.739032Z",
     "start_time": "2025-04-07T21:11:18.737169Z"
    }
   },
   "cell_type": "code",
   "source": [
    "def plot_day_histogram(data, day):\n",
    "    plt.subplot(1,2,1)\n",
    "    sns.histplot(data=data, bins=100, kde=False, color='blue')\n",
    "    plt.title(f\"Sales Histogram of Day-{day}\")\n",
    "    plt.xlabel(\"Day\")\n",
    "    plt.ylabel(\"Frequency\")\n",
    "\n",
    "def plot_day_distribution(data, day):\n",
    "    plt.subplot(1,2,2)\n",
    "    sns.kdeplot(data=data, fill=True, color='red')\n",
    "    plt.title(f\"Sales Distribution of Day-{day}\")\n",
    "    plt.xlabel(\"Sales Quantity\")"
   ],
   "id": "d3cf86a6a878f538",
   "outputs": [],
   "execution_count": 3
  }
 ],
 "metadata": {
  "kernelspec": {
   "name": "python3",
   "language": "python",
   "display_name": "Python 3 (ipykernel)"
  }
 },
 "nbformat": 5,
 "nbformat_minor": 9
}
