{
 "cells": [
  {
   "metadata": {
    "ExecuteTime": {
     "end_time": "2025-03-22T11:37:40.531197Z",
     "start_time": "2025-03-22T11:37:40.528768Z"
    }
   },
   "cell_type": "code",
   "source": [
    "import pandas as pd\n",
    "\n",
    "data = [1,3,2,4,9,6,7,8,5]"
   ],
   "id": "7f504fd3bdf42bd9",
   "outputs": [],
   "execution_count": 4
  },
  {
   "metadata": {
    "ExecuteTime": {
     "end_time": "2025-03-22T11:37:42.306072Z",
     "start_time": "2025-03-22T11:37:42.301641Z"
    }
   },
   "cell_type": "code",
   "source": "data[:len(data) - 1]",
   "id": "5aaba2b6fa005acb",
   "outputs": [
    {
     "data": {
      "text/plain": [
       "[1, 3, 2, 4, 9, 6, 7, 8]"
      ]
     },
     "execution_count": 5,
     "metadata": {},
     "output_type": "execute_result"
    }
   ],
   "execution_count": 5
  },
  {
   "metadata": {
    "ExecuteTime": {
     "end_time": "2025-03-22T11:37:43.418190Z",
     "start_time": "2025-03-22T11:37:43.415528Z"
    }
   },
   "cell_type": "code",
   "source": "data[1:]",
   "id": "c458490d217543f",
   "outputs": [
    {
     "data": {
      "text/plain": [
       "[3, 2, 4, 9, 6, 7, 8, 5]"
      ]
     },
     "execution_count": 6,
     "metadata": {},
     "output_type": "execute_result"
    }
   ],
   "execution_count": 6
  },
  {
   "metadata": {
    "ExecuteTime": {
     "end_time": "2025-03-22T11:37:44.492021Z",
     "start_time": "2025-03-22T11:37:44.489596Z"
    }
   },
   "cell_type": "code",
   "source": "data[2:]",
   "id": "e0bf6f41a806c329",
   "outputs": [
    {
     "data": {
      "text/plain": [
       "[2, 4, 9, 6, 7, 8, 5]"
      ]
     },
     "execution_count": 7,
     "metadata": {},
     "output_type": "execute_result"
    }
   ],
   "execution_count": 7
  },
  {
   "metadata": {
    "ExecuteTime": {
     "end_time": "2025-03-22T11:37:45.588700Z",
     "start_time": "2025-03-22T11:37:45.585552Z"
    }
   },
   "cell_type": "code",
   "source": "data[1: len(data) - 1]",
   "id": "96af3c8ccccd9ea2",
   "outputs": [
    {
     "data": {
      "text/plain": [
       "[3, 2, 4, 9, 6, 7, 8]"
      ]
     },
     "execution_count": 8,
     "metadata": {},
     "output_type": "execute_result"
    }
   ],
   "execution_count": 8
  },
  {
   "metadata": {
    "ExecuteTime": {
     "end_time": "2025-03-22T11:39:29.456899Z",
     "start_time": "2025-03-22T11:39:29.454236Z"
    }
   },
   "cell_type": "code",
   "source": [
    "train = [1,3,2,4,9,6,7,8,5]\n",
    "prediction = [0,1,2,8,12,6,3,9,4,12,15]\n",
    "train_1 = train[1:len(prediction)]\n",
    "print(train_1)\n"
   ],
   "id": "9ffd7ffa251656b3",
   "outputs": [
    {
     "name": "stdout",
     "output_type": "stream",
     "text": [
      "[3, 2, 4, 9, 6, 7, 8, 5]\n"
     ]
    }
   ],
   "execution_count": 11
  },
  {
   "metadata": {
    "ExecuteTime": {
     "end_time": "2025-03-18T14:48:30.781985Z",
     "start_time": "2025-03-18T14:48:30.779823Z"
    }
   },
   "cell_type": "code",
   "source": "print(a)",
   "id": "e37189ec22ea4280",
   "outputs": [
    {
     "name": "stdout",
     "output_type": "stream",
     "text": [
      "[1, 2, 3, 4, 5, 6, 7]\n"
     ]
    }
   ],
   "execution_count": 15
  }
 ],
 "metadata": {
  "kernelspec": {
   "name": "python3",
   "language": "python",
   "display_name": "Python 3 (ipykernel)"
  }
 },
 "nbformat": 5,
 "nbformat_minor": 9
}
